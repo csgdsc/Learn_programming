{
 "cells": [
  {
   "cell_type": "markdown",
   "metadata": {},
   "source": [
    "# Introduction to Python and Jupyter notebooks \n"
   ]
  },
  {
   "cell_type": "markdown",
   "metadata": {},
   "source": [
    "Welcome everyone to Python in jupyter notebook. Here I am going to cover some basics of using python. The benefit of using jupyter notebooks is that they are easily executable, they run in your browser. You can change values in the code to see what happens. They are great for prototyping your code and in general troubleshooting. \n",
    "\n",
    "All the code is divded into cells and each cell can be individually run. The output of the cell is visible right after the cell is run. This a great way to see numbers, text, plots and what not. So lets just get started with it. As with any new programming tool or langauge. The more you use it, the more you will become comfortable\n",
    "\n",
    "A few useful shortcuts to remember while using jupyter notebooks is - \n",
    "\n",
    "shift+enter to run a cell\n",
    "\n",
    "Esc then A to add cell above \n",
    "\n",
    "Esc then B to add cell below \n",
    "\n",
    "Esc then D,D in quick succession to delete a single cell \n",
    "\n",
    "There are many more keyboard shortcuts available, discover them in Help -> keyboard shortcuts \n"
   ]
  },
  {
   "cell_type": "markdown",
   "metadata": {},
   "source": [
    "## Basic data types \n"
   ]
  },
  {
   "cell_type": "markdown",
   "metadata": {},
   "source": [
    "In python, unlike c or c++ you dont define any data types. For example if you want to define an integrer, it is just written as a = 2 or b = 5, there is no special designation for it. For example \n"
   ]
  },
  {
   "cell_type": "code",
   "execution_count": 16,
   "metadata": {
    "collapsed": false
   },
   "outputs": [
    {
     "name": "stdout",
     "output_type": "stream",
     "text": [
      "2\n",
      "3.5\n",
      "hello world\n"
     ]
    }
   ],
   "source": [
    "a = 2 # integer type\n",
    "b  = 3.5 # double type\n",
    "c  = 'hello world'  # string type\n",
    "\n",
    "print(a)\n",
    "print(b)\n",
    "print(c)"
   ]
  },
  {
   "cell_type": "markdown",
   "metadata": {},
   "source": [
    "Some back arithematic operations - addition, subtraction, multiplication and division"
   ]
  },
  {
   "cell_type": "code",
   "execution_count": 17,
   "metadata": {
    "collapsed": false
   },
   "outputs": [
    {
     "name": "stdout",
     "output_type": "stream",
     "text": [
      "1.6666666666666667\n"
     ]
    }
   ],
   "source": [
    "a = 10\n",
    "a_add = a +2 \n",
    "a_subtract = a - 4\n",
    "a_mul = a*4 \n",
    "a_div = a/6 \n",
    "\n",
    "# change the variable name in the below print statement to see the result \n",
    "print(a_div)"
   ]
  },
  {
   "cell_type": "markdown",
   "metadata": {},
   "source": [
    "You can access each element or letter of a string by an index. The below code I am borrowing from tutorials point. Fell free to change values here to see what results you get by changing the index value for the string. "
   ]
  },
  {
   "cell_type": "code",
   "execution_count": 18,
   "metadata": {
    "collapsed": false
   },
   "outputs": [
    {
     "name": "stdout",
     "output_type": "stream",
     "text": [
      "hello world\n",
      "h\n",
      "llo\n",
      "llo world\n",
      "hello worldhello world\n",
      "hello worldTEST\n"
     ]
    }
   ],
   "source": [
    "str = c \n",
    "print (str)          # Prints complete string\n",
    "print (str[0])       # Prints first character of the string\n",
    "print (str[2:5])     # Prints characters starting from 3rd to 5th\n",
    "print (str[2:])      # Prints string starting from 3rd character / change this to play around \n",
    "print (str * 2)      # Prints string two times\n",
    "print (str + \"TEST\") # Prints concatenated string"
   ]
  },
  {
   "cell_type": "markdown",
   "metadata": {},
   "source": [
    "## Lists \n"
   ]
  },
  {
   "cell_type": "markdown",
   "metadata": {},
   "source": [
    "Lists are a way to hold and access data in python. There are other ways to hold data as well like dictionaries, numpy arrays and tuples. We start with the simplelest of them all which is lists. Here I am referening to some code from tutorialspoint \n"
   ]
  },
  {
   "cell_type": "code",
   "execution_count": 19,
   "metadata": {
    "collapsed": false
   },
   "outputs": [
    {
     "name": "stdout",
     "output_type": "stream",
     "text": [
      "['abcd', 786, 2.23, 'john', 70.2]\n",
      "abcd\n",
      "[786, 2.23]\n",
      "[2.23, 'john', 70.2]\n",
      "[123, 'john', 123, 'john']\n",
      "['abcd', 786, 2.23, 'john', 70.2, 123, 'john']\n"
     ]
    }
   ],
   "source": [
    "list = [ 'abcd', 786 , 2.23, 'john', 70.2 ]\n",
    "tinylist = [123, 'john']\n",
    "\n",
    "print (list)          # Prints complete list\n",
    "print (list[0])       # Prints first element of the list\n",
    "print (list[1:3])     # Prints elements starting from 2nd till 3rd \n",
    "print (list[2:])      # Prints elements starting from 3rd element\n",
    "print (tinylist * 2)  # Prints list two times\n",
    "print (list + tinylist) # Prints concatenated lists\n"
   ]
  },
  {
   "cell_type": "markdown",
   "metadata": {},
   "source": [
    "So looking at lists it should be clear that a string data type is essential a type of list. There are a few operations with list I will show that will come in handy. For example if you have a list of numbers then - "
   ]
  },
  {
   "cell_type": "code",
   "execution_count": 61,
   "metadata": {
    "collapsed": false
   },
   "outputs": [
    {
     "name": "stdout",
     "output_type": "stream",
     "text": [
      "printing A \n",
      "[2, 4, 5, 3, 6]\n",
      "-----------------\n",
      "printing A2\n",
      "[2, 4, 5, 3, 6, 2, 4, 5, 3, 6]\n"
     ]
    }
   ],
   "source": [
    "A  = [2,4,5,3,6]\n",
    "\n",
    "print(\"printing A \")\n",
    "print(A)\n",
    "print(\"-----------------\")\n",
    "\n",
    "A2 = A*2\n",
    "\n",
    "print(\"printing A2\")\n",
    "print(A2)\n"
   ]
  },
  {
   "cell_type": "markdown",
   "metadata": {},
   "source": [
    "see what happened with the list whenI multipled it with 2?  can you divided, add or subtract the list by 2? give it a shot and see what happense !\n",
    "\n",
    "Some other neat things about lists are the following functions"
   ]
  },
  {
   "cell_type": "code",
   "execution_count": 62,
   "metadata": {
    "collapsed": false
   },
   "outputs": [
    {
     "name": "stdout",
     "output_type": "stream",
     "text": [
      "5\n"
     ]
    }
   ],
   "source": [
    "print(len(A))  #print the length of the list A  "
   ]
  },
  {
   "cell_type": "markdown",
   "metadata": {},
   "source": [
    "Can you similarly print the length of A2 see what it yields? Add a cell here and type in the code"
   ]
  },
  {
   "cell_type": "code",
   "execution_count": 63,
   "metadata": {
    "collapsed": false
   },
   "outputs": [
    {
     "name": "stdout",
     "output_type": "stream",
     "text": [
      "[2, 4, 5, 3, 6, 8]\n"
     ]
    }
   ],
   "source": [
    "A.append(8)\n",
    "print(A)"
   ]
  },
  {
   "cell_type": "markdown",
   "metadata": {},
   "source": [
    "The method .append(value) adds whatever is the value to the list A. This value is always added to the right end of the list and never the left end. There are a whole bunch of other functions that you can use with lists. Tutorialspoint has a collection of them. I will try to write down a few here "
   ]
  },
  {
   "cell_type": "code",
   "execution_count": 73,
   "metadata": {
    "collapsed": false
   },
   "outputs": [
    {
     "name": "stdout",
     "output_type": "stream",
     "text": [
      "6\n",
      "--------------------\n",
      "2\n",
      "--------------------\n",
      "[6, 3, 5, 4, 2]\n",
      "--------------------\n",
      "2\n",
      "--------------------\n",
      "[6, 5, 4, 2]\n",
      "--------------------\n",
      "[6, 5, 4]\n",
      "--------------------\n",
      "[4, 5, 6]\n"
     ]
    }
   ],
   "source": [
    "A  = [2,4,5,3,6]\n",
    "\n",
    "\n",
    "max_val = max(A)\n",
    "print(max_val) \n",
    "\n",
    "print('--------------------')\n",
    "\n",
    "min_val = min(A)\n",
    "print(min_val) \n",
    "\n",
    "print('--------------------')\n",
    "\n",
    "A.reverse() # reverses the list \n",
    "print(A)\n",
    "\n",
    "print('--------------------')\n",
    "\n",
    "location_in_list = A.index(5)  # tell us where the number 5 is located in the list \n",
    "print(location_in_list)\n",
    "\n",
    "# suppose there were 2 5s in A what would A.index(5) yield, add a cell and try it out \n",
    "\n",
    "print('--------------------')\n",
    "\n",
    "A.pop(1)   # delete the first element of the list \n",
    "print(A)\n",
    "\n",
    "print('--------------------')\n",
    "\n",
    "A.pop(-1)   # -1 deletes the last element of the list, always\n",
    "print(A)\n",
    "\n",
    "print('--------------------')\n",
    "\n",
    "A.sort()   # sort a list \n",
    "print(A)\n",
    "\n"
   ]
  },
  {
   "cell_type": "code",
   "execution_count": null,
   "metadata": {
    "collapsed": true
   },
   "outputs": [],
   "source": []
  }
 ],
 "metadata": {
  "kernelspec": {
   "display_name": "Python 3",
   "language": "python",
   "name": "python3"
  },
  "language_info": {
   "codemirror_mode": {
    "name": "ipython",
    "version": 3
   },
   "file_extension": ".py",
   "mimetype": "text/x-python",
   "name": "python",
   "nbconvert_exporter": "python",
   "pygments_lexer": "ipython3",
   "version": "3.5.2"
  }
 },
 "nbformat": 4,
 "nbformat_minor": 0
}
